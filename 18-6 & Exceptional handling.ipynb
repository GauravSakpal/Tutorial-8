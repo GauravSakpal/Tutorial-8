{
 "cells": [
  {
   "cell_type": "code",
   "execution_count": 47,
   "id": "f59d2424",
   "metadata": {},
   "outputs": [
    {
     "name": "stdout",
     "output_type": "stream",
     "text": [
      "15\n",
      "0\n",
      "b is not equal to zero\n",
      "0\n"
     ]
    }
   ],
   "source": [
    "try:\n",
    "    a=int(input())\n",
    "    b=int(input())\n",
    "    print(a/b)\n",
    "except:\n",
    "    print(\"b is not equal to zero\")\n",
    "c=a*b\n",
    "print(c)    "
   ]
  },
  {
   "cell_type": "code",
   "execution_count": 42,
   "id": "df9ec351",
   "metadata": {},
   "outputs": [
    {
     "name": "stdout",
     "output_type": "stream",
     "text": [
      "15\n",
      "a\n",
      "enter integer\n"
     ]
    }
   ],
   "source": [
    "try:\n",
    "    a=int(input())\n",
    "    b=int(input())   \n",
    "    print(a/b)\n",
    "except ValueError:\n",
    "    print(\"enter integer\")    \n",
    "except ZeroDivisionError:\n",
    "    print(\"b should not be zero\")"
   ]
  },
  {
   "cell_type": "code",
   "execution_count": 5,
   "id": "ea621dd4",
   "metadata": {},
   "outputs": [
    {
     "name": "stdout",
     "output_type": "stream",
     "text": [
      "15\n",
      "0\n",
      "b should not be zero\n",
      "15\n",
      "a\n",
      "enter integer\n",
      "15\n",
      "3\n",
      "5.0\n"
     ]
    }
   ],
   "source": [
    "while True:\n",
    "    try:\n",
    "        a=int(input())\n",
    "        b=int(input())   \n",
    "        print(a/b)\n",
    "        break\n",
    "    except ValueError:\n",
    "        print(\"enter integer\")    \n",
    "    except ZeroDivisionError:\n",
    "        print(\"b should not be zero\")"
   ]
  },
  {
   "cell_type": "code",
   "execution_count": 6,
   "id": "119e99f2",
   "metadata": {},
   "outputs": [
    {
     "name": "stdout",
     "output_type": "stream",
     "text": [
      "15\n",
      "0\n",
      "division by zero\n",
      "15\n",
      "3\n",
      "5.0\n"
     ]
    }
   ],
   "source": [
    "while True:   \n",
    "    try:\n",
    "        a=int(input())\n",
    "        b=int(input())   \n",
    "        print(a/b)\n",
    "        break   \n",
    "    except ZeroDivisionError as e:\n",
    "        print(e)"
   ]
  },
  {
   "cell_type": "code",
   "execution_count": 7,
   "id": "383a777a",
   "metadata": {},
   "outputs": [
    {
     "name": "stdout",
     "output_type": "stream",
     "text": [
      "15\n",
      "0\n",
      "(<class 'ZeroDivisionError'>, ZeroDivisionError('division by zero'), <traceback object at 0x000001D9B283AE80>)\n",
      "15\n",
      "3\n",
      "5.0\n"
     ]
    }
   ],
   "source": [
    "import sys\n",
    "while True:   \n",
    "    try:\n",
    "        a=int(input())\n",
    "        b=int(input())   \n",
    "        print(a/b)\n",
    "        break   \n",
    "    except:\n",
    "        print(sys.exc_info())"
   ]
  },
  {
   "cell_type": "code",
   "execution_count": 1,
   "id": "5dd081e1",
   "metadata": {},
   "outputs": [
    {
     "name": "stdout",
     "output_type": "stream",
     "text": [
      "15\n",
      "0\n",
      "exception class: <class 'ZeroDivisionError'>\n",
      "exception message: division by zero\n",
      "line number: 6\n",
      "15\n",
      "3\n",
      "5.0\n"
     ]
    }
   ],
   "source": [
    "import sys\n",
    "while True:   \n",
    "    try:\n",
    "        a=int(input())\n",
    "        b=int(input())   \n",
    "        print(a/b)\n",
    "        break   \n",
    "    except:\n",
    "        a,b,c=(sys.exc_info())\n",
    "        print(\"exception class:\",a)\n",
    "        print(\"exception message:\",b)\n",
    "        print('line number:',c.tb_lineno)"
   ]
  },
  {
   "cell_type": "code",
   "execution_count": 2,
   "id": "8ff5b34e",
   "metadata": {},
   "outputs": [
    {
     "name": "stdout",
     "output_type": "stream",
     "text": [
      "15\n",
      "0\n",
      "Traceback (most recent call last):\n",
      "  File \"C:\\Users\\gaura\\AppData\\Local\\Temp\\ipykernel_16704\\2379324802.py\", line 6, in <cell line: 3>\n",
      "    print(a/b)\n",
      "ZeroDivisionError: division by zero\n",
      "\n",
      "15\n",
      "3\n",
      "5.0\n"
     ]
    }
   ],
   "source": [
    "import traceback\n",
    "while True:   \n",
    "    try:\n",
    "        a=int(input())\n",
    "        b=int(input())   \n",
    "        print(a/b)\n",
    "        break   \n",
    "    except:\n",
    "        print(traceback.format_exc())"
   ]
  },
  {
   "cell_type": "code",
   "execution_count": 6,
   "id": "5d621b87",
   "metadata": {},
   "outputs": [
    {
     "name": "stdout",
     "output_type": "stream",
     "text": [
      "10\n",
      "0\n",
      "non zero denominator\n",
      "10\n",
      "-12\n",
      "neg no not allowed\n",
      "12\n",
      "hh\n",
      "int only\n",
      "12\n",
      "7'\n",
      "int only\n",
      "12\n",
      "7\n",
      "1.7142857142857142\n"
     ]
    }
   ],
   "source": [
    "while True:\n",
    "    try:\n",
    "        a=int(input())\n",
    "        b=int(input())\n",
    "        if a<0 or b<0:\n",
    "            raise Exception (\"neg no not allowed\")\n",
    "        print(a/b)\n",
    "        break\n",
    "    except ValueError:\n",
    "        print(\"int only\")\n",
    "    except ZeroDivisionError:\n",
    "        print(\"non zero denominator\")\n",
    "    except Exception as e:\n",
    "        print(e)\n",
    "    "
   ]
  },
  {
   "cell_type": "code",
   "execution_count": 10,
   "id": "ac302040",
   "metadata": {},
   "outputs": [
    {
     "name": "stdout",
     "output_type": "stream",
     "text": [
      "10\n",
      "-78\n",
      "neg no not allowed\n",
      "10\n",
      "12\n",
      "0.8333333333333334\n"
     ]
    }
   ],
   "source": [
    "#custom exception\n",
    "class NegativeNumberException(Exception):\n",
    "    pass\n",
    "while True:\n",
    "    try:\n",
    "        a=int(input())\n",
    "        b=int(input())\n",
    "        if a<0 or b<0:\n",
    "            raise NegativeNumberException (\"neg no not allowed\")\n",
    "        print(a/b)\n",
    "        break\n",
    "    except ValueError:\n",
    "        print(\"int only\")\n",
    "    except ZeroDivisionError:\n",
    "        print(\"non zero denominator\")\n",
    "    except NegativeNumberException as e:\n",
    "        print(e)\n",
    "    "
   ]
  },
  {
   "cell_type": "code",
   "execution_count": 15,
   "id": "5a3b042c",
   "metadata": {},
   "outputs": [
    {
     "name": "stdout",
     "output_type": "stream",
     "text": [
      "10\n",
      "0\n",
      "denominator is not zero\n"
     ]
    }
   ],
   "source": [
    "try:\n",
    "    a=int(input())\n",
    "    b=int(input())   \n",
    "    print(a/b)\n",
    "except:\n",
    "    print(\"denominator is not zero\")\n",
    "else:\n",
    "    print(\"python rocks!!\")\n"
   ]
  },
  {
   "cell_type": "code",
   "execution_count": 16,
   "id": "707aaac6",
   "metadata": {},
   "outputs": [
    {
     "name": "stdout",
     "output_type": "stream",
     "text": [
      "10\n",
      "0\n",
      "denominator is not zero\n",
      "python rocks!!\n"
     ]
    }
   ],
   "source": [
    "try:\n",
    "    a=int(input())\n",
    "    b=int(input())   \n",
    "    print(a/b)\n",
    "except:\n",
    "    print(\"denominator is not zero\")\n",
    "finally:\n",
    "    print(\"python rocks!!\")\n"
   ]
  },
  {
   "cell_type": "code",
   "execution_count": null,
   "id": "5b9c5218",
   "metadata": {},
   "outputs": [],
   "source": []
  },
  {
   "cell_type": "code",
   "execution_count": null,
   "id": "b3136cfe",
   "metadata": {},
   "outputs": [],
   "source": [
    "##iterators, iterable, basics of file operation"
   ]
  },
  {
   "cell_type": "code",
   "execution_count": 17,
   "id": "5ff63da7",
   "metadata": {},
   "outputs": [],
   "source": [
    "l=[12,54,87,4,8,4]"
   ]
  },
  {
   "cell_type": "code",
   "execution_count": 18,
   "id": "45423617",
   "metadata": {},
   "outputs": [
    {
     "name": "stdout",
     "output_type": "stream",
     "text": [
      "12\n",
      "54\n",
      "87\n",
      "4\n",
      "8\n",
      "4\n"
     ]
    }
   ],
   "source": [
    "for i in l:\n",
    "    print(i)"
   ]
  },
  {
   "cell_type": "code",
   "execution_count": 19,
   "id": "08d57d3f",
   "metadata": {},
   "outputs": [],
   "source": [
    "s=\"gaurav\""
   ]
  },
  {
   "cell_type": "code",
   "execution_count": 20,
   "id": "707a9aaf",
   "metadata": {},
   "outputs": [
    {
     "name": "stdout",
     "output_type": "stream",
     "text": [
      "g\n",
      "a\n",
      "u\n",
      "r\n",
      "a\n",
      "v\n"
     ]
    }
   ],
   "source": [
    "for i in s:\n",
    "    print(i)"
   ]
  },
  {
   "cell_type": "code",
   "execution_count": 21,
   "id": "7a3871e2",
   "metadata": {},
   "outputs": [],
   "source": [
    "a=iter(s)"
   ]
  },
  {
   "cell_type": "code",
   "execution_count": 22,
   "id": "f4366884",
   "metadata": {},
   "outputs": [
    {
     "data": {
      "text/plain": [
       "'g'"
      ]
     },
     "execution_count": 22,
     "metadata": {},
     "output_type": "execute_result"
    }
   ],
   "source": [
    "next(a)"
   ]
  },
  {
   "cell_type": "code",
   "execution_count": 23,
   "id": "5139766a",
   "metadata": {},
   "outputs": [
    {
     "data": {
      "text/plain": [
       "'a'"
      ]
     },
     "execution_count": 23,
     "metadata": {},
     "output_type": "execute_result"
    }
   ],
   "source": [
    "next(a)"
   ]
  },
  {
   "cell_type": "code",
   "execution_count": 24,
   "id": "c9bf2941",
   "metadata": {},
   "outputs": [
    {
     "data": {
      "text/plain": [
       "'u'"
      ]
     },
     "execution_count": 24,
     "metadata": {},
     "output_type": "execute_result"
    }
   ],
   "source": [
    "next(a)"
   ]
  },
  {
   "cell_type": "code",
   "execution_count": 25,
   "id": "b5cc29ff",
   "metadata": {},
   "outputs": [
    {
     "data": {
      "text/plain": [
       "'r'"
      ]
     },
     "execution_count": 25,
     "metadata": {},
     "output_type": "execute_result"
    }
   ],
   "source": [
    "next(a)"
   ]
  },
  {
   "cell_type": "code",
   "execution_count": 35,
   "id": "f475d86e",
   "metadata": {},
   "outputs": [],
   "source": [
    "def square(n):\n",
    "    for i in range(n):\n",
    "         print(i,\":\",i*i)"
   ]
  },
  {
   "cell_type": "code",
   "execution_count": 36,
   "id": "7c931a52",
   "metadata": {},
   "outputs": [
    {
     "name": "stdout",
     "output_type": "stream",
     "text": [
      "0 : 0\n",
      "1 : 1\n",
      "2 : 4\n",
      "3 : 9\n",
      "4 : 16\n",
      "5 : 25\n",
      "6 : 36\n",
      "7 : 49\n",
      "8 : 64\n"
     ]
    }
   ],
   "source": [
    "square(9)"
   ]
  },
  {
   "cell_type": "code",
   "execution_count": 37,
   "id": "0c43fb26",
   "metadata": {},
   "outputs": [],
   "source": [
    "def square(n):\n",
    "    a={x:x*x for x in range(n)}\n",
    "    return a"
   ]
  },
  {
   "cell_type": "code",
   "execution_count": 38,
   "id": "9bc57aa8",
   "metadata": {},
   "outputs": [
    {
     "data": {
      "text/plain": [
       "{0: 0, 1: 1, 2: 4, 3: 9, 4: 16}"
      ]
     },
     "execution_count": 38,
     "metadata": {},
     "output_type": "execute_result"
    }
   ],
   "source": [
    "square(5)"
   ]
  },
  {
   "cell_type": "code",
   "execution_count": 39,
   "id": "2802d2ab",
   "metadata": {},
   "outputs": [],
   "source": [
    "#for generator a dataset\n",
    "def square1(n):\n",
    "    a={x:x*x for x in range(n)}\n",
    "    yield a"
   ]
  },
  {
   "cell_type": "code",
   "execution_count": 40,
   "id": "39b8b8e2",
   "metadata": {},
   "outputs": [
    {
     "data": {
      "text/plain": [
       "<generator object square1 at 0x000002300304C2E0>"
      ]
     },
     "execution_count": 40,
     "metadata": {},
     "output_type": "execute_result"
    }
   ],
   "source": [
    "square1(4)"
   ]
  },
  {
   "cell_type": "code",
   "execution_count": 42,
   "id": "32a1a15b",
   "metadata": {},
   "outputs": [
    {
     "name": "stdout",
     "output_type": "stream",
     "text": [
      "{0: 0, 1: 1, 2: 4, 3: 9}\n"
     ]
    }
   ],
   "source": [
    "for i in square1(4):\n",
    "    print (i)"
   ]
  },
  {
   "cell_type": "code",
   "execution_count": 45,
   "id": "7fd1cd2c",
   "metadata": {},
   "outputs": [],
   "source": [
    "def genfib(n):\n",
    "    a=1\n",
    "    b=1\n",
    "    l=[]\n",
    "    for i in range(n):\n",
    "        a,b=b,a+b\n",
    "        l.append(a)\n",
    "    return l    "
   ]
  },
  {
   "cell_type": "code",
   "execution_count": 46,
   "id": "b7918dd2",
   "metadata": {},
   "outputs": [
    {
     "data": {
      "text/plain": [
       "[1, 2, 3, 5, 8, 13, 21, 34]"
      ]
     },
     "execution_count": 46,
     "metadata": {},
     "output_type": "execute_result"
    }
   ],
   "source": [
    "genfib(8)"
   ]
  },
  {
   "cell_type": "code",
   "execution_count": 60,
   "id": "c562792c",
   "metadata": {},
   "outputs": [],
   "source": [
    "def genfib1(n):\n",
    "    a=1\n",
    "    b=1\n",
    "    for i in range(n):\n",
    "        a,b=b,a+b\n",
    "        yield a   "
   ]
  },
  {
   "cell_type": "code",
   "execution_count": 61,
   "id": "5f2599cf",
   "metadata": {},
   "outputs": [
    {
     "data": {
      "text/plain": [
       "<generator object genfib1 at 0x0000023003035510>"
      ]
     },
     "execution_count": 61,
     "metadata": {},
     "output_type": "execute_result"
    }
   ],
   "source": [
    "genfib1(8)"
   ]
  },
  {
   "cell_type": "code",
   "execution_count": 62,
   "id": "94e85bf5",
   "metadata": {},
   "outputs": [
    {
     "name": "stdout",
     "output_type": "stream",
     "text": [
      "1\n",
      "2\n",
      "3\n",
      "5\n",
      "8\n",
      "13\n",
      "21\n",
      "34\n"
     ]
    }
   ],
   "source": [
    "for i in genfib1(8):\n",
    "    print(i)"
   ]
  },
  {
   "cell_type": "code",
   "execution_count": 63,
   "id": "0d2f2646",
   "metadata": {},
   "outputs": [
    {
     "data": {
      "text/plain": [
       "<generator object genfib1 at 0x00000230030357B0>"
      ]
     },
     "execution_count": 63,
     "metadata": {},
     "output_type": "execute_result"
    }
   ],
   "source": [
    "genfib1(100000000)"
   ]
  },
  {
   "cell_type": "code",
   "execution_count": null,
   "id": "15635a41",
   "metadata": {},
   "outputs": [],
   "source": [
    "####file operations"
   ]
  },
  {
   "cell_type": "code",
   "execution_count": 69,
   "id": "74a6d9e0",
   "metadata": {},
   "outputs": [],
   "source": [
    "f=open(\"gaurav.txt\",\"w\")"
   ]
  },
  {
   "cell_type": "code",
   "execution_count": 67,
   "id": "0192a690",
   "metadata": {},
   "outputs": [
    {
     "name": "stdout",
     "output_type": "stream",
     "text": [
      " Volume in drive C is OS\n",
      " Volume Serial Number is 6694-DCA8\n",
      "\n",
      " Directory of C:\\Users\\gaura\n",
      "\n",
      "17-08-2022  11:33    <DIR>          .\n",
      "17-08-2022  11:33    <DIR>          ..\n",
      "05-07-2022  18:05    <DIR>          .conda\n",
      "05-07-2022  18:03                25 .condarc\n",
      "05-07-2022  18:02    <DIR>          .continuum\n",
      "30-05-2022  15:20    <DIR>          .fontconfig\n",
      "16-02-2022  11:13    <DIR>          .Icecream PDF Editor\n",
      "10-08-2022  12:46    <DIR>          .ipynb_checkpoints\n",
      "05-07-2022  18:13    <DIR>          .ipython\n",
      "05-07-2022  18:11    <DIR>          .jupyter\n",
      "01-07-2022  11:56    <DIR>          .ms-ad\n",
      "01-08-2022  16:22            47,275 14 15-5.ipynb\n",
      "02-08-2022  00:28            41,133 21-5.ipynb\n",
      "02-08-2022  18:08            52,534 22 28-5.ipynb\n",
      "28-07-2022  10:49            49,188 28-5.ipynb\n",
      "28-05-2021  11:14    <DIR>          3D Objects\n",
      "10-08-2022  11:23           802,035 4 5-june.ipynb\n",
      "05-07-2022  09:42    <DIR>          anaconda3\n",
      "06-09-2021  10:49               151 BullseyeCoverageError.txt\n",
      "28-05-2021  11:14    <DIR>          Contacts\n",
      "27-06-2022  12:28    <DIR>          DLLs\n",
      "27-06-2022  12:27    <DIR>          Doc\n",
      "25-06-2021  09:34    <DIR>          Documents\n",
      "10-08-2022  17:30    <DIR>          Downloads\n",
      "02-03-2021  00:51    <DIR>          Dropbox\n",
      "28-05-2021  11:14    <DIR>          Favorites\n",
      "17-08-2022  11:33                 0 gaurav.txt\n",
      "27-06-2022  12:26    <DIR>          include\n",
      "27-06-2022  12:27    <DIR>          Lib\n",
      "27-06-2022  12:27    <DIR>          libs\n",
      "06-06-2022  16:24            32,763 LICENSE.txt\n",
      "28-05-2021  11:14    <DIR>          Links\n",
      "28-05-2021  11:14    <DIR>          Music\n",
      "27-06-2022  12:24    <DIR>          New folder\n",
      "06-06-2022  16:25         1,261,162 NEWS.txt\n",
      "10-08-2022  10:18    <DIR>          OneDrive\n",
      "27-06-2022  12:50    <DIR>          PycharmProjects\n",
      "06-06-2022  16:24           100,336 python.exe\n",
      "06-06-2022  16:24            63,472 python3.dll\n",
      "06-06-2022  16:24         4,450,288 python310.dll\n",
      "06-06-2022  16:24            98,800 pythonw.exe\n",
      "02-03-2021  13:50    <DIR>          Roaming\n",
      "28-05-2021  11:14    <DIR>          Saved Games\n",
      "27-06-2022  13:05    <DIR>          Scripts\n",
      "28-05-2021  11:14    <DIR>          Searches\n",
      "27-06-2022  12:28    <DIR>          tcl\n",
      "27-06-2022  12:27    <DIR>          Tools\n",
      "05-07-2022  18:32             1,522 Untitled.ipynb\n",
      "28-07-2022  10:47            48,027 Untitled1.ipynb\n",
      "13-07-2022  17:27            38,211 Untitled2.ipynb\n",
      "13-07-2022  19:45               795 Untitled3.ipynb\n",
      "27-07-2022  18:26            49,188 Untitled4.ipynb\n",
      "02-08-2022  18:11           762,219 Untitled5.ipynb\n",
      "30-07-2022  00:09                72 Untitled6.ipynb\n",
      "01-08-2022  10:20             2,835 Untitled7.ipynb\n",
      "17-08-2022  11:33            15,335 Untitled8.ipynb\n",
      "06-06-2022  16:24            98,224 vcruntime140.dll\n",
      "06-06-2022  16:24            37,256 vcruntime140_1.dll\n",
      "30-05-2022  15:23    <DIR>          Videos\n",
      "              25 File(s)      8,052,846 bytes\n",
      "              34 Dir(s)  209,140,871,168 bytes free\n"
     ]
    }
   ],
   "source": [
    "ls"
   ]
  },
  {
   "cell_type": "code",
   "execution_count": 70,
   "id": "c799749f",
   "metadata": {},
   "outputs": [
    {
     "data": {
      "text/plain": [
       "26"
      ]
     },
     "execution_count": 70,
     "metadata": {},
     "output_type": "execute_result"
    }
   ],
   "source": [
    "f.write(\"this is my very first file\")"
   ]
  },
  {
   "cell_type": "code",
   "execution_count": 72,
   "id": "9d2a158c",
   "metadata": {},
   "outputs": [],
   "source": [
    "f.close()"
   ]
  },
  {
   "cell_type": "code",
   "execution_count": 73,
   "id": "8b632319",
   "metadata": {},
   "outputs": [
    {
     "name": "stdout",
     "output_type": "stream",
     "text": [
      " Volume in drive C is OS\n",
      " Volume Serial Number is 6694-DCA8\n",
      "\n",
      " Directory of C:\\Users\\gaura\n",
      "\n",
      "17-08-2022  11:41    <DIR>          .\n",
      "17-08-2022  11:41    <DIR>          ..\n",
      "05-07-2022  18:05    <DIR>          .conda\n",
      "05-07-2022  18:03                25 .condarc\n",
      "05-07-2022  18:02    <DIR>          .continuum\n",
      "30-05-2022  15:20    <DIR>          .fontconfig\n",
      "16-02-2022  11:13    <DIR>          .Icecream PDF Editor\n",
      "10-08-2022  12:46    <DIR>          .ipynb_checkpoints\n",
      "05-07-2022  18:13    <DIR>          .ipython\n",
      "05-07-2022  18:11    <DIR>          .jupyter\n",
      "01-07-2022  11:56    <DIR>          .ms-ad\n",
      "01-08-2022  16:22            47,275 14 15-5.ipynb\n",
      "02-08-2022  00:28            41,133 21-5.ipynb\n",
      "02-08-2022  18:08            52,534 22 28-5.ipynb\n",
      "28-07-2022  10:49            49,188 28-5.ipynb\n",
      "28-05-2021  11:14    <DIR>          3D Objects\n",
      "10-08-2022  11:23           802,035 4 5-june.ipynb\n",
      "05-07-2022  09:42    <DIR>          anaconda3\n",
      "06-09-2021  10:49               151 BullseyeCoverageError.txt\n",
      "28-05-2021  11:14    <DIR>          Contacts\n",
      "27-06-2022  12:28    <DIR>          DLLs\n",
      "27-06-2022  12:27    <DIR>          Doc\n",
      "25-06-2021  09:34    <DIR>          Documents\n",
      "10-08-2022  17:30    <DIR>          Downloads\n",
      "02-03-2021  00:51    <DIR>          Dropbox\n",
      "28-05-2021  11:14    <DIR>          Favorites\n",
      "17-08-2022  11:42                26 gaurav.txt\n",
      "27-06-2022  12:26    <DIR>          include\n",
      "27-06-2022  12:27    <DIR>          Lib\n",
      "27-06-2022  12:27    <DIR>          libs\n",
      "06-06-2022  16:24            32,763 LICENSE.txt\n",
      "28-05-2021  11:14    <DIR>          Links\n",
      "28-05-2021  11:14    <DIR>          Music\n",
      "27-06-2022  12:24    <DIR>          New folder\n",
      "06-06-2022  16:25         1,261,162 NEWS.txt\n",
      "10-08-2022  10:18    <DIR>          OneDrive\n",
      "27-06-2022  12:50    <DIR>          PycharmProjects\n",
      "06-06-2022  16:24           100,336 python.exe\n",
      "06-06-2022  16:24            63,472 python3.dll\n",
      "06-06-2022  16:24         4,450,288 python310.dll\n",
      "06-06-2022  16:24            98,800 pythonw.exe\n",
      "02-03-2021  13:50    <DIR>          Roaming\n",
      "28-05-2021  11:14    <DIR>          Saved Games\n",
      "27-06-2022  13:05    <DIR>          Scripts\n",
      "28-05-2021  11:14    <DIR>          Searches\n",
      "27-06-2022  12:28    <DIR>          tcl\n",
      "27-06-2022  12:27    <DIR>          Tools\n",
      "05-07-2022  18:32             1,522 Untitled.ipynb\n",
      "28-07-2022  10:47            48,027 Untitled1.ipynb\n",
      "13-07-2022  17:27            38,211 Untitled2.ipynb\n",
      "13-07-2022  19:45               795 Untitled3.ipynb\n",
      "27-07-2022  18:26            49,188 Untitled4.ipynb\n",
      "02-08-2022  18:11           762,219 Untitled5.ipynb\n",
      "30-07-2022  00:09                72 Untitled6.ipynb\n",
      "01-08-2022  10:20             2,835 Untitled7.ipynb\n",
      "17-08-2022  11:41            19,288 Untitled8.ipynb\n",
      "06-06-2022  16:24            98,224 vcruntime140.dll\n",
      "06-06-2022  16:24            37,256 vcruntime140_1.dll\n",
      "30-05-2022  15:23    <DIR>          Videos\n",
      "              25 File(s)      8,056,825 bytes\n",
      "              34 Dir(s)  209,136,631,808 bytes free\n"
     ]
    }
   ],
   "source": [
    "ls"
   ]
  },
  {
   "cell_type": "code",
   "execution_count": 78,
   "id": "c9688573",
   "metadata": {},
   "outputs": [],
   "source": [
    "f1=open(\"gaurav1.txt\",\"w\")\n",
    "f1.write(\"Despite the fact that I have no idea what is going on in my life, I am fighting this difficult phase.\")\n",
    "f1.close()"
   ]
  },
  {
   "cell_type": "code",
   "execution_count": 76,
   "id": "2f972bf5",
   "metadata": {},
   "outputs": [],
   "source": [
    "l=[21,2,54,4,4,8,84,8,48,481,84,8,84,5,1,21]"
   ]
  },
  {
   "cell_type": "code",
   "execution_count": 81,
   "id": "6560db9d",
   "metadata": {},
   "outputs": [],
   "source": [
    "f2=open(\"test.txt\",\"w\")\n",
    "f2.write(str(l))\n",
    "f2.close()"
   ]
  },
  {
   "cell_type": "code",
   "execution_count": 84,
   "id": "ec179a1e",
   "metadata": {},
   "outputs": [
    {
     "name": "stdout",
     "output_type": "stream",
     "text": [
      "Overwriting test2.txt\n"
     ]
    }
   ],
   "source": [
    "%%writefile test2.txt\n",
    "this is my different type of generate file using python\n",
    "this is my different type of generate file using python\n",
    "this is my different type of generate file using python\n",
    "this is my different type of generate file using python"
   ]
  },
  {
   "cell_type": "code",
   "execution_count": 92,
   "id": "b2b0c38d",
   "metadata": {},
   "outputs": [
    {
     "data": {
      "text/plain": [
       "'this is my different type of generate file using python\\nthis is my different type of generate file using python\\nthis is my different type of generate file using python\\nthis is my different type of generate file using python\\n'"
      ]
     },
     "execution_count": 92,
     "metadata": {},
     "output_type": "execute_result"
    }
   ],
   "source": [
    "a=open(\"test2.txt\")\n",
    "a.read()"
   ]
  },
  {
   "cell_type": "code",
   "execution_count": 86,
   "id": "0f59f09d",
   "metadata": {},
   "outputs": [
    {
     "data": {
      "text/plain": [
       "''"
      ]
     },
     "execution_count": 86,
     "metadata": {},
     "output_type": "execute_result"
    }
   ],
   "source": [
    "a.read()"
   ]
  },
  {
   "cell_type": "code",
   "execution_count": 87,
   "id": "e256cbfb",
   "metadata": {},
   "outputs": [
    {
     "data": {
      "text/plain": [
       "0"
      ]
     },
     "execution_count": 87,
     "metadata": {},
     "output_type": "execute_result"
    }
   ],
   "source": [
    "a.seek(0)"
   ]
  },
  {
   "cell_type": "code",
   "execution_count": 88,
   "id": "94ea59d2",
   "metadata": {},
   "outputs": [
    {
     "data": {
      "text/plain": [
       "'this is my different type of generate file using python\\nthis is my different type of generate file using python\\nthis is my different type of generate file using python\\nthis is my different type of generate file using python\\n'"
      ]
     },
     "execution_count": 88,
     "metadata": {},
     "output_type": "execute_result"
    }
   ],
   "source": [
    "a.read()"
   ]
  },
  {
   "cell_type": "code",
   "execution_count": 89,
   "id": "285e997f",
   "metadata": {},
   "outputs": [
    {
     "data": {
      "text/plain": [
       "20"
      ]
     },
     "execution_count": 89,
     "metadata": {},
     "output_type": "execute_result"
    }
   ],
   "source": [
    "a.seek(20)"
   ]
  },
  {
   "cell_type": "code",
   "execution_count": 90,
   "id": "597f7fb9",
   "metadata": {},
   "outputs": [
    {
     "data": {
      "text/plain": [
       "' type of generate file using python\\nthis is my different type of generate file using python\\nthis is my different type of generate file using python\\nthis is my different type of generate file using python\\n'"
      ]
     },
     "execution_count": 90,
     "metadata": {},
     "output_type": "execute_result"
    }
   ],
   "source": [
    "a.read()"
   ]
  },
  {
   "cell_type": "code",
   "execution_count": 93,
   "id": "d109eab9",
   "metadata": {},
   "outputs": [
    {
     "data": {
      "text/plain": [
       "228"
      ]
     },
     "execution_count": 93,
     "metadata": {},
     "output_type": "execute_result"
    }
   ],
   "source": [
    "a.tell()"
   ]
  },
  {
   "cell_type": "code",
   "execution_count": 94,
   "id": "ff607659",
   "metadata": {},
   "outputs": [
    {
     "data": {
      "text/plain": [
       "23"
      ]
     },
     "execution_count": 94,
     "metadata": {},
     "output_type": "execute_result"
    }
   ],
   "source": [
    "a.seek(23)"
   ]
  },
  {
   "cell_type": "code",
   "execution_count": 96,
   "id": "a930d3b5",
   "metadata": {},
   "outputs": [
    {
     "data": {
      "text/plain": [
       "'pe of generate file '"
      ]
     },
     "execution_count": 96,
     "metadata": {},
     "output_type": "execute_result"
    }
   ],
   "source": [
    "a.read(20)"
   ]
  },
  {
   "cell_type": "code",
   "execution_count": 98,
   "id": "771ea48b",
   "metadata": {},
   "outputs": [
    {
     "data": {
      "text/plain": [
       "0"
      ]
     },
     "execution_count": 98,
     "metadata": {},
     "output_type": "execute_result"
    }
   ],
   "source": [
    "a.seek(0)"
   ]
  },
  {
   "cell_type": "code",
   "execution_count": 99,
   "id": "b782799d",
   "metadata": {},
   "outputs": [
    {
     "data": {
      "text/plain": [
       "['this is my different type of generate file using python\\n',\n",
       " 'this is my different type of generate file using python\\n',\n",
       " 'this is my different type of generate file using python\\n',\n",
       " 'this is my different type of generate file using python\\n']"
      ]
     },
     "execution_count": 99,
     "metadata": {},
     "output_type": "execute_result"
    }
   ],
   "source": [
    "a.readlines()"
   ]
  },
  {
   "cell_type": "code",
   "execution_count": 102,
   "id": "6a01b8b1",
   "metadata": {},
   "outputs": [],
   "source": [
    "b=open(\"test2.txt\",\"a\")\n",
    "b.write(\"this is the new dataset\")\n",
    "b.close()"
   ]
  },
  {
   "cell_type": "code",
   "execution_count": 103,
   "id": "2869a235",
   "metadata": {},
   "outputs": [],
   "source": [
    "b=open(\"test2.txt\",\"a\")\n",
    "b.write(\"hjsvsjygbkuhsbbjnj this is the new dataset \")\n",
    "b.close()"
   ]
  },
  {
   "cell_type": "code",
   "execution_count": 105,
   "id": "f911b5aa",
   "metadata": {},
   "outputs": [
    {
     "data": {
      "text/plain": [
       "'test2.txt'"
      ]
     },
     "execution_count": 105,
     "metadata": {},
     "output_type": "execute_result"
    }
   ],
   "source": [
    "b.name"
   ]
  },
  {
   "cell_type": "code",
   "execution_count": 106,
   "id": "60cb81ed",
   "metadata": {},
   "outputs": [
    {
     "data": {
      "text/plain": [
       "'a'"
      ]
     },
     "execution_count": 106,
     "metadata": {},
     "output_type": "execute_result"
    }
   ],
   "source": [
    "b.mode"
   ]
  },
  {
   "cell_type": "code",
   "execution_count": 108,
   "id": "68228fd4",
   "metadata": {},
   "outputs": [
    {
     "data": {
      "text/plain": [
       "True"
      ]
     },
     "execution_count": 108,
     "metadata": {},
     "output_type": "execute_result"
    }
   ],
   "source": [
    "b.closed"
   ]
  },
  {
   "cell_type": "code",
   "execution_count": null,
   "id": "afbde546",
   "metadata": {},
   "outputs": [],
   "source": [
    "#map, reduce and filter"
   ]
  },
  {
   "cell_type": "code",
   "execution_count": 109,
   "id": "17e08861",
   "metadata": {},
   "outputs": [],
   "source": [
    "l=[21,45,1,56,4,22]"
   ]
  },
  {
   "cell_type": "code",
   "execution_count": 117,
   "id": "0570c2fb",
   "metadata": {},
   "outputs": [],
   "source": [
    "l1=[]\n",
    "for i in l:\n",
    "    l1.append(i**2)"
   ]
  },
  {
   "cell_type": "code",
   "execution_count": 115,
   "id": "b74866ee",
   "metadata": {},
   "outputs": [
    {
     "data": {
      "text/plain": [
       "[441, 2025, 1, 3136, 16, 484]"
      ]
     },
     "execution_count": 115,
     "metadata": {},
     "output_type": "execute_result"
    }
   ],
   "source": [
    "l1"
   ]
  },
  {
   "cell_type": "code",
   "execution_count": 120,
   "id": "a8714caa",
   "metadata": {},
   "outputs": [],
   "source": [
    "def sq(n):\n",
    "    return n**2"
   ]
  },
  {
   "cell_type": "code",
   "execution_count": 121,
   "id": "d993c231",
   "metadata": {},
   "outputs": [
    {
     "data": {
      "text/plain": [
       "[441, 2025, 1, 3136, 16, 484]"
      ]
     },
     "execution_count": 121,
     "metadata": {},
     "output_type": "execute_result"
    }
   ],
   "source": [
    "list(map(sq,l))"
   ]
  },
  {
   "cell_type": "code",
   "execution_count": 123,
   "id": "38efb916",
   "metadata": {},
   "outputs": [
    {
     "data": {
      "text/plain": [
       "[441, 2025, 1, 3136, 16, 484]"
      ]
     },
     "execution_count": 123,
     "metadata": {},
     "output_type": "execute_result"
    }
   ],
   "source": [
    "list(map(lambda x:x**2,l))"
   ]
  },
  {
   "cell_type": "code",
   "execution_count": 124,
   "id": "d93f5bb3",
   "metadata": {},
   "outputs": [
    {
     "data": {
      "text/plain": [
       "[21, 45, 1, 56, 4, 22]"
      ]
     },
     "execution_count": 124,
     "metadata": {},
     "output_type": "execute_result"
    }
   ],
   "source": [
    "l"
   ]
  },
  {
   "cell_type": "code",
   "execution_count": 126,
   "id": "06d8b5b4",
   "metadata": {},
   "outputs": [
    {
     "data": {
      "text/plain": [
       "['21', '45', '1', '56', '4', '22']"
      ]
     },
     "execution_count": 126,
     "metadata": {},
     "output_type": "execute_result"
    }
   ],
   "source": [
    "list(map(lambda x:str(x),l))"
   ]
  },
  {
   "cell_type": "code",
   "execution_count": 127,
   "id": "9320753c",
   "metadata": {},
   "outputs": [],
   "source": [
    "def str_c(n):\n",
    "    return str(n)"
   ]
  },
  {
   "cell_type": "code",
   "execution_count": 128,
   "id": "bab3c0c2",
   "metadata": {},
   "outputs": [
    {
     "data": {
      "text/plain": [
       "['21', '45', '1', '56', '4', '22']"
      ]
     },
     "execution_count": 128,
     "metadata": {},
     "output_type": "execute_result"
    }
   ],
   "source": [
    "list(map(str_c,l))"
   ]
  },
  {
   "cell_type": "code",
   "execution_count": 129,
   "id": "6d82d0b6",
   "metadata": {},
   "outputs": [
    {
     "data": {
      "text/plain": [
       "['21', '45', '1', '56', '4', '22']"
      ]
     },
     "execution_count": 129,
     "metadata": {},
     "output_type": "execute_result"
    }
   ],
   "source": [
    "list(map(str,l))"
   ]
  },
  {
   "cell_type": "code",
   "execution_count": 132,
   "id": "31aa3055",
   "metadata": {},
   "outputs": [],
   "source": [
    "from functools import reduce"
   ]
  },
  {
   "cell_type": "code",
   "execution_count": 133,
   "id": "6bc37369",
   "metadata": {},
   "outputs": [],
   "source": [
    "l=[3,4,5,6,7,8,10]"
   ]
  },
  {
   "cell_type": "code",
   "execution_count": 137,
   "id": "1a43f9c9",
   "metadata": {},
   "outputs": [
    {
     "data": {
      "text/plain": [
       "43"
      ]
     },
     "execution_count": 137,
     "metadata": {},
     "output_type": "execute_result"
    }
   ],
   "source": [
    "sum(l)"
   ]
  },
  {
   "cell_type": "code",
   "execution_count": 138,
   "id": "72b0ef77",
   "metadata": {},
   "outputs": [
    {
     "data": {
      "text/plain": [
       "43"
      ]
     },
     "execution_count": 138,
     "metadata": {},
     "output_type": "execute_result"
    }
   ],
   "source": [
    "reduce(lambda a,b:a+b,l)"
   ]
  },
  {
   "cell_type": "code",
   "execution_count": 141,
   "id": "dc49fc1f",
   "metadata": {},
   "outputs": [
    {
     "data": {
      "text/plain": [
       "201600"
      ]
     },
     "execution_count": 141,
     "metadata": {},
     "output_type": "execute_result"
    }
   ],
   "source": [
    "reduce(lambda a,b:a*b,l)"
   ]
  },
  {
   "cell_type": "code",
   "execution_count": 142,
   "id": "cde9cfa5",
   "metadata": {},
   "outputs": [],
   "source": [
    "l=[12,454,12,845,18,457,45154,875,12]"
   ]
  },
  {
   "cell_type": "code",
   "execution_count": 143,
   "id": "e79af0b4",
   "metadata": {},
   "outputs": [
    {
     "name": "stdout",
     "output_type": "stream",
     "text": [
      "12\n",
      "454\n",
      "12\n",
      "18\n",
      "45154\n",
      "12\n"
     ]
    }
   ],
   "source": [
    "for i in l:\n",
    "    if i%2==0:\n",
    "        print(i)"
   ]
  },
  {
   "cell_type": "code",
   "execution_count": 145,
   "id": "d3d7c657",
   "metadata": {},
   "outputs": [
    {
     "data": {
      "text/plain": [
       "[12, 454, 12, 18, 45154, 12]"
      ]
     },
     "execution_count": 145,
     "metadata": {},
     "output_type": "execute_result"
    }
   ],
   "source": [
    "list(filter(lambda i:i%2==0,l))"
   ]
  },
  {
   "cell_type": "code",
   "execution_count": 146,
   "id": "7f5db306",
   "metadata": {},
   "outputs": [],
   "source": [
    "def check_even(n):\n",
    "    if n%2==0:\n",
    "        return True"
   ]
  },
  {
   "cell_type": "code",
   "execution_count": 147,
   "id": "efc8849e",
   "metadata": {},
   "outputs": [
    {
     "data": {
      "text/plain": [
       "[12, 454, 12, 18, 45154, 12]"
      ]
     },
     "execution_count": 147,
     "metadata": {},
     "output_type": "execute_result"
    }
   ],
   "source": [
    "list(filter(check_even,l))"
   ]
  },
  {
   "cell_type": "code",
   "execution_count": null,
   "id": "fbe79cc1",
   "metadata": {},
   "outputs": [],
   "source": []
  }
 ],
 "metadata": {
  "kernelspec": {
   "display_name": "Python 3 (ipykernel)",
   "language": "python",
   "name": "python3"
  },
  "language_info": {
   "codemirror_mode": {
    "name": "ipython",
    "version": 3
   },
   "file_extension": ".py",
   "mimetype": "text/x-python",
   "name": "python",
   "nbconvert_exporter": "python",
   "pygments_lexer": "ipython3",
   "version": "3.9.12"
  }
 },
 "nbformat": 4,
 "nbformat_minor": 5
}
